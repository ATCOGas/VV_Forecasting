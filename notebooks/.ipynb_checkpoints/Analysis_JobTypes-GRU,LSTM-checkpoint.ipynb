{
 "cells": [
  {
   "cell_type": "markdown",
   "metadata": {},
   "source": [
    "# Smell of Gas Prediction (Job Type SF5)\n",
    "\n",
    "In this notebook, we predict how often a smell of gas call will be reported from the Public. The Call Centre will be able to take corrective actions in advance to improve resource allocation and corrective maintenance efficiency.\n",
    "\n",
    "We are going to use the dataset **Corrective Maintenance and Weather Dataset** \n",
    "\n",
    "Summary:\n",
    " - [Data Pre-processing](#preprocess)\n",
    "     - [Load Data](#load_data)\n",
    "     - [Prepare Data](#prep_data)\n",
    "     - [Visualise Data](#viz_data)\n",
    "     - [Normalise Data](#normalise)\n",
    " - [Build the Models](#models)\n",
    "     - [Split Data into Train and Test Sets](#split)\n",
    "     - [Gated Recurrent Unit (GRU)](#gru)\n",
    "     - [Long-short Term Memory (LSTM)](#lstm)\n",
    " - [Compare Models' Performance](#compare)\n",
    " - [Use Model for Prediction](#apply)\n",
    "  \n",
    "__All the libraries used in this notebook are <font color='red'>Open Source</font>__."
   ]
  },
  {
   "cell_type": "code",
   "execution_count": 1,
   "metadata": {},
   "outputs": [
    {
     "name": "stderr",
     "output_type": "stream",
     "text": [
      "Using TensorFlow backend.\n"
     ]
    }
   ],
   "source": [
    "import numpy as np\n",
    "import pandas as pd\n",
    "import matplotlib.pyplot as plt\n",
    "from datetime import datetime\n",
    "\n",
    "from utils import *\n",
    "\n",
    "# the following to lines will tell to the python kernel to alway update the kernel for every utils.py\n",
    "# modification, without the need of restarting the kernel.\n",
    "# Of course, for every motification in util.py, we need to reload this cell\n",
    "%load_ext autoreload\n",
    "%autoreload 2\n",
    "%matplotlib inline"
   ]
  },
  {
   "cell_type": "markdown",
   "metadata": {},
   "source": [
    "<a id='preprocess'></a>\n",
    "## Data Pre-processing"
   ]
  },
  {
   "cell_type": "markdown",
   "metadata": {},
   "source": [
    "<a id='load_data'></a>\n",
    "### Load Data"
   ]
  },
  {
   "cell_type": "code",
   "execution_count": 2,
   "metadata": {},
   "outputs": [
    {
     "data": {
      "text/html": [
       "<div>\n",
       "<style scoped>\n",
       "    .dataframe tbody tr th:only-of-type {\n",
       "        vertical-align: middle;\n",
       "    }\n",
       "\n",
       "    .dataframe tbody tr th {\n",
       "        vertical-align: top;\n",
       "    }\n",
       "\n",
       "    .dataframe thead th {\n",
       "        text-align: right;\n",
       "    }\n",
       "</style>\n",
       "<table border=\"1\" class=\"dataframe\">\n",
       "  <thead>\n",
       "    <tr style=\"text-align: right;\">\n",
       "      <th></th>\n",
       "      <th>notif_date</th>\n",
       "      <th>floc</th>\n",
       "      <th>order</th>\n",
       "      <th>job_type</th>\n",
       "      <th>catalog_profile</th>\n",
       "      <th>meter_install_date</th>\n",
       "      <th>meter_model</th>\n",
       "      <th>network</th>\n",
       "      <th>postcode</th>\n",
       "      <th>suburb</th>\n",
       "      <th>...</th>\n",
       "      <th>distance</th>\n",
       "      <th>evapo_trans_0000_2400</th>\n",
       "      <th>rain_0900_0900</th>\n",
       "      <th>pan_evap_0900_0900</th>\n",
       "      <th>max_temp</th>\n",
       "      <th>min_temp</th>\n",
       "      <th>max_rel_humidity</th>\n",
       "      <th>min_rel_humidity</th>\n",
       "      <th>avg_10m_wind_speed</th>\n",
       "      <th>solar_radiation</th>\n",
       "    </tr>\n",
       "    <tr>\n",
       "      <th>notif</th>\n",
       "      <th></th>\n",
       "      <th></th>\n",
       "      <th></th>\n",
       "      <th></th>\n",
       "      <th></th>\n",
       "      <th></th>\n",
       "      <th></th>\n",
       "      <th></th>\n",
       "      <th></th>\n",
       "      <th></th>\n",
       "      <th></th>\n",
       "      <th></th>\n",
       "      <th></th>\n",
       "      <th></th>\n",
       "      <th></th>\n",
       "      <th></th>\n",
       "      <th></th>\n",
       "      <th></th>\n",
       "      <th></th>\n",
       "      <th></th>\n",
       "      <th></th>\n",
       "    </tr>\n",
       "  </thead>\n",
       "  <tbody>\n",
       "    <tr>\n",
       "      <th>300713965.0</th>\n",
       "      <td>2011-12-21</td>\n",
       "      <td>504107.0</td>\n",
       "      <td>NaN</td>\n",
       "      <td>SPH</td>\n",
       "      <td>MAIN</td>\n",
       "      <td>NaN</td>\n",
       "      <td>NaN</td>\n",
       "      <td>SM</td>\n",
       "      <td>6110.0</td>\n",
       "      <td>SOUTHERN RIVER</td>\n",
       "      <td>...</td>\n",
       "      <td>0.131159</td>\n",
       "      <td>7.3</td>\n",
       "      <td>0.0</td>\n",
       "      <td>10.8</td>\n",
       "      <td>28.9</td>\n",
       "      <td>13.6</td>\n",
       "      <td>97.0</td>\n",
       "      <td>32.0</td>\n",
       "      <td>3.87</td>\n",
       "      <td>34.47</td>\n",
       "    </tr>\n",
       "    <tr>\n",
       "      <th>300719006.0</th>\n",
       "      <td>2011-12-21</td>\n",
       "      <td>673096.0</td>\n",
       "      <td>NaN</td>\n",
       "      <td>SPL</td>\n",
       "      <td>MAIN</td>\n",
       "      <td>NaN</td>\n",
       "      <td>NaN</td>\n",
       "      <td>SM</td>\n",
       "      <td>6111.0</td>\n",
       "      <td>KELMSCOTT</td>\n",
       "      <td>...</td>\n",
       "      <td>0.099496</td>\n",
       "      <td>7.9</td>\n",
       "      <td>0.0</td>\n",
       "      <td>8.0</td>\n",
       "      <td>30.6</td>\n",
       "      <td>16.4</td>\n",
       "      <td>82.0</td>\n",
       "      <td>35.0</td>\n",
       "      <td>4.24</td>\n",
       "      <td>34.47</td>\n",
       "    </tr>\n",
       "    <tr>\n",
       "      <th>300719010.0</th>\n",
       "      <td>2011-12-21</td>\n",
       "      <td>810841.0</td>\n",
       "      <td>NaN</td>\n",
       "      <td>SPH</td>\n",
       "      <td>MAIN</td>\n",
       "      <td>NaN</td>\n",
       "      <td>NaN</td>\n",
       "      <td>NM</td>\n",
       "      <td>6019.0</td>\n",
       "      <td>WEMBLEY DOWNS</td>\n",
       "      <td>...</td>\n",
       "      <td>0.049014</td>\n",
       "      <td>6.4</td>\n",
       "      <td>0.0</td>\n",
       "      <td>36.8</td>\n",
       "      <td>25.8</td>\n",
       "      <td>16.9</td>\n",
       "      <td>91.0</td>\n",
       "      <td>61.0</td>\n",
       "      <td>4.63</td>\n",
       "      <td>34.24</td>\n",
       "    </tr>\n",
       "    <tr>\n",
       "      <th>300719430.0</th>\n",
       "      <td>2011-12-21</td>\n",
       "      <td>27.0</td>\n",
       "      <td>NaN</td>\n",
       "      <td>SPH</td>\n",
       "      <td>MAIN</td>\n",
       "      <td>NaN</td>\n",
       "      <td>NaN</td>\n",
       "      <td>NM</td>\n",
       "      <td>6026.0</td>\n",
       "      <td>WOODVALE</td>\n",
       "      <td>...</td>\n",
       "      <td>0.138307</td>\n",
       "      <td>7.2</td>\n",
       "      <td>0.0</td>\n",
       "      <td>2.4</td>\n",
       "      <td>29.2</td>\n",
       "      <td>17.4</td>\n",
       "      <td>89.0</td>\n",
       "      <td>38.0</td>\n",
       "      <td>3.37</td>\n",
       "      <td>34.38</td>\n",
       "    </tr>\n",
       "    <tr>\n",
       "      <th>300730505.0</th>\n",
       "      <td>2011-12-21</td>\n",
       "      <td>117547.0</td>\n",
       "      <td>NaN</td>\n",
       "      <td>SF1</td>\n",
       "      <td>DOMMETER</td>\n",
       "      <td>14.01.2014</td>\n",
       "      <td>M8A</td>\n",
       "      <td>SM</td>\n",
       "      <td>6153.0</td>\n",
       "      <td>NaN</td>\n",
       "      <td>...</td>\n",
       "      <td>0.087419</td>\n",
       "      <td>7.3</td>\n",
       "      <td>0.0</td>\n",
       "      <td>10.8</td>\n",
       "      <td>28.9</td>\n",
       "      <td>13.6</td>\n",
       "      <td>97.0</td>\n",
       "      <td>32.0</td>\n",
       "      <td>3.87</td>\n",
       "      <td>34.47</td>\n",
       "    </tr>\n",
       "  </tbody>\n",
       "</table>\n",
       "<p>5 rows × 22 columns</p>\n",
       "</div>"
      ],
      "text/plain": [
       "             notif_date      floc  order job_type catalog_profile  \\\n",
       "notif                                                               \n",
       "300713965.0  2011-12-21  504107.0    NaN      SPH            MAIN   \n",
       "300719006.0  2011-12-21  673096.0    NaN      SPL            MAIN   \n",
       "300719010.0  2011-12-21  810841.0    NaN      SPH            MAIN   \n",
       "300719430.0  2011-12-21      27.0    NaN      SPH            MAIN   \n",
       "300730505.0  2011-12-21  117547.0    NaN      SF1        DOMMETER   \n",
       "\n",
       "            meter_install_date meter_model network  postcode          suburb  \\\n",
       "notif                                                                          \n",
       "300713965.0                NaN         NaN      SM    6110.0  SOUTHERN RIVER   \n",
       "300719006.0                NaN         NaN      SM    6111.0       KELMSCOTT   \n",
       "300719010.0                NaN         NaN      NM    6019.0   WEMBLEY DOWNS   \n",
       "300719430.0                NaN         NaN      NM    6026.0        WOODVALE   \n",
       "300730505.0         14.01.2014         M8A      SM    6153.0             NaN   \n",
       "\n",
       "                  ...         distance evapo_trans_0000_2400  rain_0900_0900  \\\n",
       "notif             ...                                                          \n",
       "300713965.0       ...         0.131159                   7.3             0.0   \n",
       "300719006.0       ...         0.099496                   7.9             0.0   \n",
       "300719010.0       ...         0.049014                   6.4             0.0   \n",
       "300719430.0       ...         0.138307                   7.2             0.0   \n",
       "300730505.0       ...         0.087419                   7.3             0.0   \n",
       "\n",
       "             pan_evap_0900_0900  max_temp  min_temp  max_rel_humidity  \\\n",
       "notif                                                                   \n",
       "300713965.0                10.8      28.9      13.6              97.0   \n",
       "300719006.0                 8.0      30.6      16.4              82.0   \n",
       "300719010.0                36.8      25.8      16.9              91.0   \n",
       "300719430.0                 2.4      29.2      17.4              89.0   \n",
       "300730505.0                10.8      28.9      13.6              97.0   \n",
       "\n",
       "             min_rel_humidity  avg_10m_wind_speed  solar_radiation  \n",
       "notif                                                               \n",
       "300713965.0              32.0                3.87            34.47  \n",
       "300719006.0              35.0                4.24            34.47  \n",
       "300719010.0              61.0                4.63            34.24  \n",
       "300719430.0              38.0                3.37            34.38  \n",
       "300730505.0              32.0                3.87            34.47  \n",
       "\n",
       "[5 rows x 22 columns]"
      ]
     },
     "execution_count": 2,
     "metadata": {},
     "output_type": "execute_result"
    }
   ],
   "source": [
    "# Load data\n",
    "df_raw = pd.read_csv('../data/corrective_maint_job_types.csv',index_col=0, decimal=\".\")\n",
    "df_raw.head()"
   ]
  },
  {
   "cell_type": "markdown",
   "metadata": {},
   "source": [
    "<a id='prep_data'></a>\n",
    "### Prepare Data"
   ]
  },
  {
   "cell_type": "code",
   "execution_count": 3,
   "metadata": {
    "scrolled": false
   },
   "outputs": [],
   "source": [
    "# Prepare data for analysis\n",
    "df_analysis = pd.DataFrame()\n",
    "df_wide = pd.DataFrame()\n",
    "\n",
    "# Fields to directly copy to new analysis dataframe\n",
    "make_copy = (\n",
    "    ('notif_date', 'date'),\n",
    "    ('job_type', 'job_type'),\n",
    "    ('network', 'network'),\n",
    "    ('evapo_trans_0000_2400', 'evapo_trans_0000_2400'),\n",
    "    ('rain_0900_0900', 'rain_0900_0900'),\n",
    "    ('pan_evap_0900_0900', 'pan_evap_0900_0900'),\n",
    "    ('max_temp', 'max_temp'),\n",
    "    ('min_temp', 'min_temp'),\n",
    "    ('max_rel_humidity', 'max_rel_humidity'),\n",
    "    ('min_rel_humidity', 'min_rel_humidity'),\n",
    "    ('avg_10m_wind_speed', 'avg_10m_wind_speed'),\n",
    "    ('solar_radiation', 'solar_radiation')\n",
    ")\n",
    "for orig, new in make_copy:\n",
    "    df_analysis[new] = df_raw[orig]\n",
    "\n",
    "# Convert categorical columns to binary\n",
    "#job = pd.get_dummies(df_analysis['job_type'])\n",
    "#df_analysis = df_analysis.drop('job_type', axis=1)\n",
    "#df_analysis = df_analysis.join(job)\n",
    "net = pd.get_dummies(df_analysis['network'])\n",
    "#df_analysis = df_analysis.drop('network', axis=1)\n",
    "df_analysis = df_analysis.join(net)\n",
    "\n",
    "# Set date for timeseries index\n",
    "#df_analysis=df_analysis.set_index('date')\n",
    "#df_analysis = df_analysis.set_index(pd.DatetimeIndex(df_analysis['date']))\n",
    "df_analysis=df_analysis.interpolate()\n",
    "\n",
    "#df_analysis = df_analysis.drop(['date','network'], axis=1)\n",
    "\n",
    "#df_analysis"
   ]
  },
  {
   "cell_type": "code",
   "execution_count": 4,
   "metadata": {},
   "outputs": [
    {
     "name": "stderr",
     "output_type": "stream",
     "text": [
      "C:\\Users\\tdavies\\AppData\\Local\\conda\\conda\\envs\\VV_Forecasting\\lib\\site-packages\\ipykernel_launcher.py:5: SettingWithCopyWarning: \n",
      "A value is trying to be set on a copy of a slice from a DataFrame.\n",
      "Try using .loc[row_indexer,col_indexer] = value instead\n",
      "\n",
      "See the caveats in the documentation: http://pandas.pydata.org/pandas-docs/stable/indexing.html#indexing-view-versus-copy\n",
      "  \"\"\"\n",
      "C:\\Users\\tdavies\\AppData\\Local\\conda\\conda\\envs\\VV_Forecasting\\lib\\site-packages\\ipykernel_launcher.py:6: SettingWithCopyWarning: \n",
      "A value is trying to be set on a copy of a slice from a DataFrame.\n",
      "Try using .loc[row_indexer,col_indexer] = value instead\n",
      "\n",
      "See the caveats in the documentation: http://pandas.pydata.org/pandas-docs/stable/indexing.html#indexing-view-versus-copy\n",
      "  \n"
     ]
    }
   ],
   "source": [
    "# Set job type for analysis\n",
    "job_type = 'SF5'\n",
    "\n",
    "df = df_analysis.loc[df_analysis['job_type'] == job_type]\n",
    "df['date']=pd.to_datetime(df['date'])\n",
    "df['date']=df['date'].dt.strftime('%Y-%m')#monthly\n",
    "#df['date']=df['date'].dt.strftime('%Y')#yearly\n",
    "df = df.reset_index()\n",
    "#df.info()"
   ]
  },
  {
   "cell_type": "code",
   "execution_count": 5,
   "metadata": {},
   "outputs": [],
   "source": [
    "import datetime\n",
    "import numpy as np\n",
    "    \n",
    "# make the data\n",
    "pivot_weather = pd.pivot_table(df,\n",
    "                               values=[\n",
    "                                   #'evapo_trans_0000_2400',\n",
    "                                   #'rain_0900_0900',\n",
    "                                   #'pan_evap_0900_0900',\n",
    "                                   #'max_temp',\n",
    "                                   'min_temp'\n",
    "                                   #'max_rel_humidity',\n",
    "                                   #'min_rel_humidity',\n",
    "                                   #'avg_10m_wind_speed',\n",
    "                                   #'solar_radiation'\n",
    "                                ],\n",
    "                               index=['date','network'],\n",
    "                               aggfunc='mean'\n",
    "                              )\n",
    "\n",
    "pivot_weather = pivot_weather.reset_index()\n",
    "pivot_weather['date']=pd.to_datetime(pivot_weather['date'])\n",
    "#pivot_weather.head()"
   ]
  },
  {
   "cell_type": "code",
   "execution_count": 6,
   "metadata": {},
   "outputs": [],
   "source": [
    "# make the data\n",
    "pivot_jobcount = pd.pivot_table(df, values='job_type', index=['date', 'network'], aggfunc='count')\n",
    "pivot_jobcount = pivot_jobcount.reset_index()\n",
    "pivot_jobcount['date']=pd.to_datetime(pivot_jobcount['date'])\n",
    "#pivot_jobcount.head()"
   ]
  },
  {
   "cell_type": "markdown",
   "metadata": {},
   "source": [
    "<a id='viz_data'></a>\n",
    "### Visualise Data"
   ]
  },
  {
   "cell_type": "code",
   "execution_count": 7,
   "metadata": {},
   "outputs": [
    {
     "data": {
      "text/plain": [
       "<matplotlib.legend.Legend at 0x1b967c88>"
      ]
     },
     "execution_count": 7,
     "metadata": {},
     "output_type": "execute_result"
    },
    {
     "data": {
      "image/png": "[encoded data removed]",
      "text/plain": [
       "<Figure size 1080x360 with 1 Axes>"
      ]
     },
     "metadata": {
      "needs_background": "light"
     },
     "output_type": "display_data"
    }
   ],
   "source": [
    "import datetime\n",
    "import numpy as np\n",
    "import matplotlib.pyplot as plt\n",
    "import matplotlib.dates as mdates\n",
    "\n",
    "# make the data\n",
    "pivot = pd.pivot_table(df, values=['AL','BS','BU','GE','KA','MA','NM','SM'], index='date', aggfunc='sum')\n",
    "pivot = pivot.reset_index()\n",
    "pivot['date']=pd.to_datetime(pivot['date'])\n",
    "\n",
    "# plot the data\n",
    "fig, ax = plt.subplots(figsize = (15, 5))\n",
    "ax.plot(pivot.date, pivot.AL)\n",
    "#ax.plot(pivot.date, pivot.BS)\n",
    "#ax.plot(pivot.date, pivot.BU)\n",
    "#ax.plot(pivot.date, pivot.GE)\n",
    "#ax.plot(pivot.date, pivot.KA)\n",
    "#ax.plot(pivot.date, pivot.MA)\n",
    "#ax.plot(pivot.date, pivot.NM)\n",
    "#ax.plot(pivot.date, pivot.SM)\n",
    "\n",
    "# format the ticks\n",
    "years = mdates.YearLocator()   # every year\n",
    "months = mdates.MonthLocator()  # every month\n",
    "yearsFmt = mdates.DateFormatter('%Y')\n",
    "\n",
    "ax.xaxis.set_major_locator(years)\n",
    "ax.xaxis.set_major_formatter(yearsFmt)\n",
    "ax.xaxis.set_minor_locator(months)\n",
    "\n",
    "datemin = datetime.date(pivot.date.min().year, 1, 1)\n",
    "datemax = datetime.date(pivot.date.max().year + 1, 1, 1)\n",
    "\n",
    "ax.set_xlim(datemin, datemax)\n",
    "\n",
    "plt.title('Number of monthly smell of gas jobs (SF5)')\n",
    "plt.ylabel('Count')\n",
    "plt.xlabel('Year')\n",
    "plt.legend(loc=\"upper right\")"
   ]
  },
  {
   "cell_type": "markdown",
   "metadata": {},
   "source": [
    "<a id='normalise'></a>\n",
    "### Normalise Data\n",
    "\n",
    "Here are going to normalise all the features and transform the data into a supervised learning problem. The features to be predicted are removed, as we would like to predict just the *Smell of Gas Calls (SF5)* (last element in every feature array).\n",
    "\n",
    "This step involves framing the dataset as a **supervised learning problem**. As we would like to predict the \"job_type\", we will set the corresponding column to be the output (label $y$).\n",
    "\n",
    "We would like to predict the number of SF5 jobs ( $y_t$) at the current time ($t$) given the measurements at the prior time steps (lets say $t-1, t-2, \\dots t-n$, in which $n$ is the number of past observations to be used to forcast $y_t$).\n",
    "\n",
    "The function **create_window** (see _utils.py_) converts the time-series to a supervised learning problem. The new dataset is constructed as a **DataFrame**, with each column suitably named both by variable number and time step, for example, $var1(t-1)$ for **%Iron Feed** at the previous observation ($t-1$). This allows the design of a variety of different time step sequence type forecasting problems from a given univariate or multivariate time series."
   ]
  },
  {
   "cell_type": "code",
   "execution_count": 8,
   "metadata": {},
   "outputs": [
    {
     "data": {
      "text/html": [
       "<div>\n",
       "<style scoped>\n",
       "    .dataframe tbody tr th:only-of-type {\n",
       "        vertical-align: middle;\n",
       "    }\n",
       "\n",
       "    .dataframe tbody tr th {\n",
       "        vertical-align: top;\n",
       "    }\n",
       "\n",
       "    .dataframe thead th {\n",
       "        text-align: right;\n",
       "    }\n",
       "</style>\n",
       "<table border=\"1\" class=\"dataframe\">\n",
       "  <thead>\n",
       "    <tr style=\"text-align: right;\">\n",
       "      <th></th>\n",
       "      <th>min_temp</th>\n",
       "      <th>count</th>\n",
       "    </tr>\n",
       "    <tr>\n",
       "      <th>date</th>\n",
       "      <th></th>\n",
       "      <th></th>\n",
       "    </tr>\n",
       "  </thead>\n",
       "  <tbody>\n",
       "    <tr>\n",
       "      <th>2009-01-01</th>\n",
       "      <td>11.862500</td>\n",
       "      <td>4</td>\n",
       "    </tr>\n",
       "    <tr>\n",
       "      <th>2009-02-01</th>\n",
       "      <td>11.500000</td>\n",
       "      <td>1</td>\n",
       "    </tr>\n",
       "    <tr>\n",
       "      <th>2009-03-01</th>\n",
       "      <td>13.312500</td>\n",
       "      <td>4</td>\n",
       "    </tr>\n",
       "    <tr>\n",
       "      <th>2009-04-01</th>\n",
       "      <td>13.613636</td>\n",
       "      <td>11</td>\n",
       "    </tr>\n",
       "    <tr>\n",
       "      <th>2009-05-01</th>\n",
       "      <td>9.590476</td>\n",
       "      <td>7</td>\n",
       "    </tr>\n",
       "  </tbody>\n",
       "</table>\n",
       "</div>"
      ],
      "text/plain": [
       "             min_temp  count\n",
       "date                        \n",
       "2009-01-01  11.862500      4\n",
       "2009-02-01  11.500000      1\n",
       "2009-03-01  13.312500      4\n",
       "2009-04-01  13.613636     11\n",
       "2009-05-01   9.590476      7"
      ]
     },
     "execution_count": 8,
     "metadata": {},
     "output_type": "execute_result"
    }
   ],
   "source": [
    "# Set network for analysis\n",
    "network = 'AL'\n",
    "\n",
    "pivot_jobcount = pivot_jobcount.loc[pivot_jobcount['network'] == network]\n",
    "pivot_weather = pivot_weather.loc[pivot_weather['network'] == network]\n",
    "\n",
    "dataset = pd.merge(pivot_weather, pivot_jobcount, left_on=['date','network'], \n",
    "                       right_on=['date','network'], how='left')\n",
    "\n",
    "# dataset = pivot_jobcount # uncomment this line  to run analysis without weather data\n",
    "\n",
    "# move count to last column as prediction variable\n",
    "dataset['count'] = dataset['job_type']\n",
    "\n",
    "# copy dates for backfilling into output\n",
    "dates = pd.DataFrame()\n",
    "dates['date'] = dataset['date']\n",
    "#dates = dates[:-12]\n",
    "dates.reset_index()\n",
    "\n",
    "# Drop string columns\n",
    "#dataset = dataset.drop(['date', 'network', 'job_type'], axis=1)\n",
    "dataset = dataset.drop(['network', 'job_type'], axis=1)\n",
    "dataset = dataset.set_index('date')\n",
    "#dataset = dataset[:-12] # drop last year worth of data for testing of predictions\n",
    "dataset.to_csv('../data/weather_predictions.csv')\n",
    "\n",
    "dataset.head()"
   ]
  },
  {
   "cell_type": "code",
   "execution_count": 9,
   "metadata": {},
   "outputs": [
    {
     "name": "stdout",
     "output_type": "stream",
     "text": [
      "2\n"
     ]
    }
   ],
   "source": [
    "print (dataset.shape[1])"
   ]
  },
  {
   "cell_type": "code",
   "execution_count": 10,
   "metadata": {},
   "outputs": [
    {
     "name": "stdout",
     "output_type": "stream",
     "text": [
      "(101, 12)\n",
      "(106, 2)\n"
     ]
    }
   ],
   "source": [
    "# Scikit learn libraries\n",
    "from sklearn.preprocessing import MinMaxScaler #Allows normalisation\n",
    "\n",
    "# Convert the data to float\n",
    "values = dataset.values.astype('float32')\n",
    "\n",
    "# Normalise features\n",
    "scaler = MinMaxScaler(feature_range=(0, 1))\n",
    "scaled = scaler.fit_transform(values)\n",
    "\n",
    "# Specify the number of lag\n",
    "n_in = 5 # window size\n",
    "n_features = dataset.shape[1] # number of features\n",
    "n_out = 1 #2 # number of predictions in output\n",
    "\n",
    "# Transform the time-series to a supervised learning problem representation\n",
    "reframed = create_window(scaled, n_in = n_in, n_out = n_out, drop_nan = True)\n",
    "\n",
    "# Summarise the new frames (reframes) \n",
    "print(reframed.shape)\n",
    "print(scaled.shape)"
   ]
  },
  {
   "cell_type": "markdown",
   "metadata": {},
   "source": [
    "<a id='models'></a>\n",
    "## Build the Models\n",
    "\n",
    "### Split Data into Train and Test Sets\n",
    "Firstly we need to split the available data into training and test data sets.\n",
    "\n",
    "### Define Models\n",
    "Now, we are going to build the following sequential models:\n",
    " \n",
    " - [Gated Recurrent Unit (GRU)](#gru)\n",
    " - [Long Short-Term Memory (LSTM)](#lstm)\n",
    " \n",
    "The models consists in a **many_to_one** architecture, in which the input is a **sequence** of the past observations and the output is the predicted value (in this case with dimension equal 1).\n",
    "\n",
    "To build the models, we have used the following components from Keras:\n",
    "\n",
    " - [Sequential](https://keras.io/models/sequential/): allows us to create models layer-by-layer. \n",
    " - [GRU](https://keras.io/layers/recurrent/): provides a GRU architecture\n",
    " - [Dense](https://keras.io/layers/core/): provides a regular fully-connected layer\n",
    " - [Activation](https://keras.io/activations/): defines the activation function to be used\n",
    " \n",
    "\n",
    "### Train Models\n",
    "Once defined the model, we need to train it by using the function [fit](https://keras.io/models/model/). This function performs the optmisation step. Hence, we can define the following parameters such as:\n",
    "\n",
    " - batch size: defines the number of samples that will be propagated through the network\n",
    " - epochs: defines the number of times in which all the training set (x_train_scaled) are used once to update the weights\n",
    " - validation split: defines the percentage of training data to be used for validation\n",
    " - among others (click [here](https://keras.io/models/model/) for more information)\n",
    " \n",
    "\n",
    "### Analyse Model Performance\n",
    "This function return the _history_ of the training, that can be used for further performance analysis.\n",
    "\n",
    "Here we can see if the model overfits or underfits. First, we are going to plot the 'loss' and the 'Accuracy' in from the training step.\n",
    "\n",
    "Once the model was trained, we can use the function [predict](https://keras.io/models/model/) for  prediction tasks. We are going to use the function **inverse_transform** (see _utils.py_) to invert the scaling (transform the values to the original ones).\n",
    "\n",
    "Given the predictions and expected values in their original scale, we can then compute the error score for the model.\n",
    "\n",
    "### Use Model for Predictions\n"
   ]
  },
  {
   "cell_type": "code",
   "execution_count": 11,
   "metadata": {},
   "outputs": [],
   "source": [
    "from keras.models import Sequential\n",
    "from keras.layers import Dense, Dropout\n",
    "from keras.layers import LSTM, GRU\n",
    "\n",
    "from sklearn.metrics import mean_squared_error # allows compute the mean square error to performance analysis"
   ]
  },
  {
   "cell_type": "markdown",
   "metadata": {},
   "source": [
    "<a id='split'></a>\n",
    "### Split Data into Train and Test Sets"
   ]
  },
  {
   "cell_type": "code",
   "execution_count": 12,
   "metadata": {},
   "outputs": [
    {
     "name": "stdout",
     "output_type": "stream",
     "text": [
      "(81,)\n",
      "Number of total features (n_obs):  10\n",
      "Number of samples in training set:  81\n",
      "Number of samples in testing set:  20\n"
     ]
    },
    {
     "data": {
      "text/plain": [
       "(20, 5, 2)"
      ]
     },
     "execution_count": 12,
     "metadata": {},
     "output_type": "execute_result"
    }
   ],
   "source": [
    "# split into train and test sets\n",
    "values = reframed.values\n",
    "\n",
    "# We will use 80% of the data for training and 20% for testing\n",
    "n_train = round(0.8 * values.shape[0])\n",
    "train = values[:n_train, :]\n",
    "test = values[n_train:, :]\n",
    "\n",
    "# Determine dates for x axis for plotting later\n",
    "output_x = dates['date'].values\n",
    "output_months = output_x[n_train+n_in:]\n",
    "\n",
    "# Split into input and outputs\n",
    "n_obs = n_in * n_features\n",
    "x_train = train[:, :n_obs]\n",
    "y_train = train[:, n_features-1]\n",
    "#y_train = train[:, :n_out]\n",
    "print(y_train.shape)\n",
    "x_test = test[:, :n_obs]\n",
    "y_test = test[:, n_features-1]\n",
    "\n",
    "print('Number of total features (n_obs): ', x_train.shape[1])\n",
    "print('Number of samples in training set: ', x_train.shape[0])\n",
    "print('Number of samples in testing set: ', x_test.shape[0])\n",
    "\n",
    "# Reshape input to be 3D [samples, timesteps, features]\n",
    "x_train = x_train.reshape((x_train.shape[0], n_in, n_features))\n",
    "x_test = x_test.reshape((x_test.shape[0], n_in, n_features))\n",
    "x_test.shape"
   ]
  },
  {
   "cell_type": "markdown",
   "metadata": {},
   "source": [
    "<a id='gru'></a>\n",
    "### Gated Recurrent Unit (GRU) Machine Learning Model"
   ]
  },
  {
   "cell_type": "code",
   "execution_count": 13,
   "metadata": {},
   "outputs": [
    {
     "name": "stdout",
     "output_type": "stream",
     "text": [
      "_________________________________________________________________\n",
      "Layer (type)                 Output Shape              Param #   \n",
      "=================================================================\n",
      "gru_1 (GRU)                  (None, 128)               50304     \n",
      "_________________________________________________________________\n",
      "dense_1 (Dense)              (None, 1)                 129       \n",
      "=================================================================\n",
      "Total params: 50,433\n",
      "Trainable params: 50,433\n",
      "Non-trainable params: 0\n",
      "_________________________________________________________________\n"
     ]
    }
   ],
   "source": [
    "# Define the model.\n",
    "model_gru = Sequential()\n",
    "\n",
    "# the input_shape is the number of past observations (n_in) and the number of features per past observations\n",
    "model_gru.add(GRU(input_shape=(x_train.shape[1], x_train.shape[2]), \n",
    "                        units = 128, \n",
    "                        return_sequences = False))\n",
    "\n",
    "model_gru.add(Dense(units=n_out)) \n",
    "\n",
    "# We compile the model by defining the mean absolute error (denoted by mae) as loss function and adam as optimizer\n",
    "model_gru.compile(loss = \"mae\", \n",
    "                  optimizer = \"adam\")\n",
    "\n",
    "model_gru.summary()"
   ]
  },
  {
   "cell_type": "code",
   "execution_count": 14,
   "metadata": {},
   "outputs": [
    {
     "name": "stdout",
     "output_type": "stream",
     "text": [
      "(81, 5, 2)\n",
      "(81,)\n"
     ]
    }
   ],
   "source": [
    "print(x_train.shape)\n",
    "print(y_train.shape)"
   ]
  },
  {
   "cell_type": "code",
   "execution_count": 15,
   "metadata": {},
   "outputs": [],
   "source": [
    "# Train the model\n",
    "hist_gru = model_gru.fit(x_train, y_train, \n",
    "                        epochs=1000, \n",
    "                        batch_size=256, \n",
    "                        validation_split = 0.1,\n",
    "                        verbose=0, # To not print the output, set verbose=0\n",
    "                        shuffle=False) "
   ]
  },
  {
   "cell_type": "code",
   "execution_count": 16,
   "metadata": {},
   "outputs": [
    {
     "data": {
      "image/png": "[encoded data removed]",
      "text/plain": [
       "<Figure size 432x288 with 1 Axes>"
      ]
     },
     "metadata": {
      "needs_background": "light"
     },
     "output_type": "display_data"
    }
   ],
   "source": [
    "# Analyse model performance\n",
    "\n",
    "# predict values on test set and extract last prediction set\n",
    "yhat_gru = model_gru.predict(x_test)\n",
    "#yhat_gru = yhat_gru[:,:1]\n",
    "\n",
    "# perform inverse transform on x_test and yhat_gru\n",
    "rtest_X = x_test.reshape((x_test.shape[0], n_in*n_features))\n",
    "\n",
    "# invert scaling for forecast\n",
    "inv_yhat_gru = np.concatenate((rtest_X[:, (n_in-1)*n_features:-1], yhat_gru), axis=1)\n",
    "inv_yhat_gru = scaler.inverse_transform(inv_yhat_gru)\n",
    "inv_yhat_gru = inv_yhat_gru[:,n_features-1]\n",
    "\n",
    "# invert scaling for actual\n",
    "y_test = y_test.reshape((len(y_test), 1))\n",
    "inv_y_gru = np.concatenate((rtest_X[:, (n_in-1)*n_features:-1], y_test), axis=1)\n",
    "inv_y_gru = scaler.inverse_transform(inv_y_gru)\n",
    "inv_y_gru = inv_y_gru[:,n_features-1]\n",
    "\n",
    "# calculate RMSE\n",
    "mse_gru = mean_squared_error(inv_y_gru, inv_yhat_gru)\n",
    "\n",
    "# Plot fitting history\n",
    "history = hist_gru.history\n",
    "\n",
    "# Loss\n",
    "plt.plot(range(1,len(history['loss'])+1),history['loss'])\n",
    "plt.plot(range(1,len(history['val_loss'])+1),history['val_loss'])\n",
    "plt.title('Model Loss (MSE: ' + str(mse_gru) + ')')\n",
    "plt.ylabel('Loss')\n",
    "plt.xlabel('Epoch')\n",
    "plt.legend(['Train set', 'Dev set'], loc='best')\n",
    "\n",
    "plt.show()"
   ]
  },
  {
   "cell_type": "markdown",
   "metadata": {},
   "source": [
    "<a id='lstm'></a>\n",
    "### Long-Short Term Memory (LSTM) Machine Learning Model"
   ]
  },
  {
   "cell_type": "code",
   "execution_count": 17,
   "metadata": {},
   "outputs": [],
   "source": [
    "# Define the model.\n",
    "model_lstm = Sequential()\n",
    "\n",
    "# Stacking just one LSTM\n",
    "model_lstm.add(LSTM(input_shape=(x_train.shape[1], x_train.shape[2]), \n",
    "                        units = 128, \n",
    "                        return_sequences = False))\n",
    "\n",
    "# Fully connected layer\n",
    "model_lstm.add(Dense(units=n_out)) \n",
    "\n",
    "model_lstm.compile(loss = \"mae\", \n",
    "                  optimizer = \"adam\")\n",
    "\n",
    "#model_lstm.summary()"
   ]
  },
  {
   "cell_type": "code",
   "execution_count": 18,
   "metadata": {},
   "outputs": [],
   "source": [
    "# Train the model\n",
    "hist_lstm = model_lstm.fit(x_train, y_train, \n",
    "                           epochs=1000, \n",
    "                           batch_size=256, \n",
    "                           validation_split = 0.1,\n",
    "                           verbose=0, \n",
    "                           shuffle=False\n",
    "                          )"
   ]
  },
  {
   "cell_type": "code",
   "execution_count": 19,
   "metadata": {},
   "outputs": [
    {
     "data": {
      "image/png": "[encoded data removed]",
      "text/plain": [
       "<Figure size 432x288 with 1 Axes>"
      ]
     },
     "metadata": {
      "needs_background": "light"
     },
     "output_type": "display_data"
    }
   ],
   "source": [
    "# Analyse model performance\n",
    "yhat_lstm = model_lstm.predict(x_test)\n",
    "\n",
    "# performing the inverse transform on x_test and yhat_lstm\n",
    "rtest_X = x_test.reshape((x_test.shape[0], n_in*n_features))\n",
    "\n",
    "# invert scaling for forecast\n",
    "inv_yhat_lstm = np.concatenate((rtest_X[:, (n_in-1)*n_features:-1], yhat_lstm), axis=1)\n",
    "inv_yhat_lstm = scaler.inverse_transform(inv_yhat_lstm)\n",
    "inv_yhat_lstm = inv_yhat_lstm[:,n_features-1]\n",
    "\n",
    "# invert scaling for actual\n",
    "y_test = y_test.reshape((len(y_test), 1))\n",
    "inv_y_lstm = np.concatenate((rtest_X[:, (n_in-1)*n_features:-1], y_test), axis=1)\n",
    "inv_y_lstm = scaler.inverse_transform(inv_y_lstm)\n",
    "inv_y_lstm = inv_y_lstm[:,n_features-1]\n",
    "\n",
    "# calculate RMSE\n",
    "mse_lstm = mean_squared_error(inv_y_lstm, inv_yhat_lstm)\n",
    "\n",
    "# Plot fitting history\n",
    "history = hist_lstm.history\n",
    "\n",
    "# Loss\n",
    "plt.plot(range(1,len(history['loss'])+1),history['loss'])\n",
    "plt.plot(range(1,len(history['val_loss'])+1),history['val_loss'])\n",
    "plt.title('Model Loss (MSE: ' + str(mse_lstm) + ')')\n",
    "plt.ylabel('Loss')\n",
    "plt.xlabel('Epoch')\n",
    "plt.legend(['Train set', 'Dev set'], loc='best')\n",
    "\n",
    "plt.show()"
   ]
  },
  {
   "cell_type": "markdown",
   "metadata": {},
   "source": [
    "<a id='compare'></a>\n",
    "## Compare Model Performance"
   ]
  },
  {
   "cell_type": "code",
   "execution_count": 20,
   "metadata": {},
   "outputs": [
    {
     "name": "stdout",
     "output_type": "stream",
     "text": [
      "(20,)\n",
      "(20,)\n"
     ]
    }
   ],
   "source": [
    "print (output_months.shape)\n",
    "print (inv_y_lstm.shape)"
   ]
  },
  {
   "cell_type": "code",
   "execution_count": 21,
   "metadata": {},
   "outputs": [
    {
     "data": {
      "text/plain": [
       "<matplotlib.legend.Legend at 0x1de3aa58>"
      ]
     },
     "execution_count": 21,
     "metadata": {},
     "output_type": "execute_result"
    },
    {
     "data": {
      "image/png": "[encoded data removed]",
      "text/plain": [
       "<Figure size 1080x360 with 1 Axes>"
      ]
     },
     "metadata": {
      "needs_background": "light"
     },
     "output_type": "display_data"
    }
   ],
   "source": [
    "series = [inv_y_lstm, inv_yhat_gru, inv_yhat_lstm]\n",
    "series_labels= ['Original', 'GRU', 'LSTM']\n",
    "\n",
    "plt.figure(figsize = (15, 5))\n",
    "\n",
    "offset = pd.Timedelta(n_in, 'M')\n",
    "\n",
    "plt.plot(output_months-offset,inv_y_lstm, label='Original')\n",
    "plt.plot(output_months-offset,inv_yhat_gru, label='GRU')\n",
    "plt.plot(output_months-offset,inv_yhat_lstm, label='LSTM')\n",
    "\n",
    "plt.xlabel(\"Month\")\n",
    "plt.ylabel(\"Predicted Value\")\n",
    "plt.title('Comparison of models')\n",
    "plt.legend(loc=\"upper right\")"
   ]
  },
  {
   "cell_type": "code",
   "execution_count": 22,
   "metadata": {},
   "outputs": [
    {
     "name": "stdout",
     "output_type": "stream",
     "text": [
      "______________________________________\n",
      "Comparing the MSE of the two models:\n",
      "  GRU:  8.6 % error\n",
      "  LSTM:  9.3 % error\n",
      "______________________________________\n",
      "Use of GRU model recommended and saved.\n",
      "______________________________________\n"
     ]
    }
   ],
   "source": [
    "# Save the recommended trained model\n",
    "#from sklearn.externals import joblib\n",
    "today = datetime.datetime.today().strftime('%Y-%m-%d')\n",
    "\n",
    "print('______________________________________')\n",
    "print('Comparing the MSE of the two models:')\n",
    "print('  GRU: ', round(mse_gru*100,1), '% error')\n",
    "print('  LSTM: ', round(mse_lstm*100,1), '% error')\n",
    "print('______________________________________')\n",
    "\n",
    "if mse_gru < mse_lstm:\n",
    "    print('Use of GRU model recommended and saved.')\n",
    "    saved_model = '..\\outputs\\GRU_model_' + network + '_' + today + '.h5'\n",
    "    model_gru.save(saved_model)\n",
    "    \n",
    "else:\n",
    "    print('Use of LSTM model recommended and saved.')\n",
    "    saved_model = '..\\outputs\\LSTM_model_' + network + '_' + today + '.h5'\n",
    "    model_lstm.save(saved_model)\n",
    "print('______________________________________')"
   ]
  },
  {
   "cell_type": "markdown",
   "metadata": {},
   "source": [
    "<a id='apply'></a>\n",
    "## Use Model for Predictions\n"
   ]
  },
  {
   "cell_type": "code",
   "execution_count": 23,
   "metadata": {},
   "outputs": [],
   "source": [
    "# Load pre-trained model\n",
    "from keras.models import load_model\n",
    "#saved_model = '..\\outputs\\LSTM_model_AL_2019-01-02.h5' # set manually if previously saved model required\n",
    "model = load_model(saved_model)\n",
    "\n",
    "# Load data to predict values from\n",
    "predictor_data = pd.read_csv('../data/weather_predictions.csv',index_col=0, decimal=\".\")\n",
    "predictor_data = predictor_data.reset_index()\n",
    "\n",
    "# Determine dates for x axis for plotting later and drop from original dataframe\n",
    "output_x = pd.DataFrame()\n",
    "output_x = predictor_data\n",
    "predictor_data = predictor_data.set_index('date')\n",
    "predictor_values = predictor_data.values.astype('float32')# Convert the data to float\n",
    "\n",
    "# Specify the number of lag (same as used for training the model)\n",
    "n_in = 5\n",
    "n_features = predictor_data.shape[1]\n",
    "n_predict = predictor_data.shape[0]\n",
    "n_obs = n_in * n_features\n",
    "\n",
    "# Normalise features\n",
    "scaler = MinMaxScaler(feature_range=(0, 1))\n",
    "scaled = scaler.fit_transform(predictor_values)\n",
    "\n",
    "# Transform the time-series to a supervised learning problem representation\n",
    "reframed = create_window(scaled, n_in = n_in, n_out = 1, drop_nan = False)\n",
    "predict = reframed.values[:n_predict, :]\n",
    "x_predict = predict[:, :n_obs]\n",
    "\n",
    "# Reshape input to be 3D [samples, timesteps, features]\n",
    "x_predict = x_predict.reshape((x_predict.shape[0], n_in, n_features))\n",
    "\n",
    "# Run model\n",
    "yhat = model.predict(x_predict)\n",
    "\n",
    "# perform the inverse transform\n",
    "rpredict_X = x_predict.reshape((x_predict.shape[0], n_in*n_features))\n",
    "\n",
    "# invert scaling (unnormalise?) for prediction\n",
    "inv_yhat = np.concatenate((rpredict_X[:, (n_in-1)*n_features:-1], yhat), axis=1)\n",
    "inv_yhat = scaler.inverse_transform(inv_yhat)\n",
    "inv_yhat = inv_yhat[:,n_features-1]\n",
    "df_prediction = pd.DataFrame(inv_yhat)\n",
    "df_prediction.columns=[job_type]\n",
    "df_prediction = round(df_prediction[job_type])\n",
    "\n",
    "# Add predicted data to dates\n",
    "df_prediction = output_x.join(df_prediction)\n",
    "\n",
    "# Shift predictions up by window size to align dates correctly\n",
    "df_prediction[job_type] = df_prediction[job_type].shift(-n_in)\n",
    "df_prediction = df_prediction[:-n_in]\n",
    "df_prediction = df_prediction.set_index('date')\n",
    "\n",
    "#######################\n",
    "# TO DO: \n",
    "######################\n",
    "\n",
    "# Save predicted data to spreadsheet\n",
    "predicted_data = '../outputs/' + saved_model + '.csv'\n",
    "df_prediction.to_csv(predicted_data)\n",
    "\n",
    "#df_prediction\n",
    "#predictor_data"
   ]
  },
  {
   "cell_type": "code",
   "execution_count": null,
   "metadata": {},
   "outputs": [],
   "source": []
  }
 ],
 "metadata": {
  "kernelspec": {
   "display_name": "Python 3",
   "language": "python",
   "name": "python3"
  },
  "language_info": {
   "codemirror_mode": {
    "name": "ipython",
    "version": 3
   },
   "file_extension": ".py",
   "mimetype": "text/x-python",
   "name": "python",
   "nbconvert_exporter": "python",
   "pygments_lexer": "ipython3",
   "version": "3.6.6"
  }
 },
 "nbformat": 4,
 "nbformat_minor": 2
}
